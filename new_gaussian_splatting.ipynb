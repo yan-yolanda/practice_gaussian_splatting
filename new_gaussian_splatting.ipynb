{
 "cells": [
  {
   "cell_type": "code",
   "execution_count": 10,
   "id": "22535de6",
   "metadata": {},
   "outputs": [
    {
     "name": "stdout",
     "output_type": "stream",
     "text": [
      "sh_degree\n",
      "3\n",
      "source_path\n",
      "\n",
      "model_path\n",
      "\n",
      "images\n",
      "images\n",
      "resolution\n",
      "-1\n",
      "white_background\n",
      "False\n",
      "data_device\n",
      "cuda\n",
      "eval\n",
      "False\n",
      "iterations\n",
      "30000\n",
      "position_lr_init\n",
      "0.00016\n",
      "position_lr_final\n",
      "1.6e-06\n",
      "position_lr_delay_mult\n",
      "0.01\n",
      "position_lr_max_steps\n",
      "30000\n",
      "feature_lr\n",
      "0.0025\n",
      "opacity_lr\n",
      "0.05\n",
      "scaling_lr\n",
      "0.005\n",
      "rotation_lr\n",
      "0.001\n",
      "percent_dense\n",
      "0.01\n",
      "lambda_dssim\n",
      "0.2\n",
      "densification_interval\n",
      "100\n",
      "opacity_reset_interval\n",
      "3000\n",
      "densify_from_iter\n",
      "500\n",
      "densify_until_iter\n",
      "15000\n",
      "densify_grad_threshold\n",
      "0.0002\n",
      "convert_SHs_python\n",
      "False\n",
      "compute_cov3D_python\n",
      "False\n"
     ]
    }
   ],
   "source": [
    "import argparse\n",
    "import json\n",
    "parse = argparse.ArgumentParser()\n",
    "file = \"config.json\"\n",
    "with open(file,'r') as f:\n",
    "    args = json.load(f)\n",
    "\n",
    "for arg in args:\n",
    "    print(arg)\n",
    "    print(args[arg])"
   ]
  },
  {
   "cell_type": "code",
   "execution_count": 9,
   "id": "39367766",
   "metadata": {},
   "outputs": [
    {
     "name": "stdout",
     "output_type": "stream",
     "text": [
      "3\n"
     ]
    }
   ],
   "source": [
    "print(args[\"sh_degree\"])"
   ]
  },
  {
   "cell_type": "code",
   "execution_count": 11,
   "id": "aba803dd",
   "metadata": {},
   "outputs": [
    {
     "data": {
      "text/plain": [
       "_StoreAction(option_strings=['--start_checkpoint'], dest='start_checkpoint', nargs=None, const=None, default=None, type=<class 'str'>, choices=None, required=False, help=None, metavar=None)"
      ]
     },
     "execution_count": 11,
     "metadata": {},
     "output_type": "execute_result"
    }
   ],
   "source": [
    "for arg in args:\n",
    "    parse.add_argument(arg,default=args[arg])\n",
    "\n",
    "parse.add_argument(\"--detect_anomaly\", action=\"store_true\", default=False)\n",
    "parse.add_argument(\"--test_iterations\", nargs=\"+\", type=int, default=[100,1_000, 7_000, 30_000])\n",
    "parse.add_argument(\"--save_iterations\", nargs=\"+\", type=int, default=[100,1_000, 7_000, 30_000])    \n",
    "parse.add_argument(\"--checkpoint_iterations\", nargs=\"+\", type=int, default=[100, 1_000, 7_000, 30_000])\n",
    "parse.add_argument(\"--start_checkpoint\", type=str, default = None)"
   ]
  },
  {
   "cell_type": "code",
   "execution_count": 12,
   "id": "38e56936",
   "metadata": {},
   "outputs": [
    {
     "name": "stderr",
     "output_type": "stream",
     "text": [
      "usage: ipykernel_launcher.py [-h] [--detect_anomaly] [--test_iterations TEST_ITERATIONS [TEST_ITERATIONS ...]]\n",
      "                             [--save_iterations SAVE_ITERATIONS [SAVE_ITERATIONS ...]]\n",
      "                             [--checkpoint_iterations CHECKPOINT_ITERATIONS [CHECKPOINT_ITERATIONS ...]]\n",
      "                             [--start_checkpoint START_CHECKPOINT]\n",
      "                             sh_degree source_path model_path images resolution white_background data_device eval\n",
      "                             iterations position_lr_init position_lr_final position_lr_delay_mult\n",
      "                             position_lr_max_steps feature_lr opacity_lr scaling_lr rotation_lr percent_dense\n",
      "                             lambda_dssim densification_interval opacity_reset_interval densify_from_iter\n",
      "                             densify_until_iter densify_grad_threshold convert_SHs_python compute_cov3D_python\n",
      "ipykernel_launcher.py: error: the following arguments are required: source_path, model_path, images, resolution, white_background, data_device, eval, iterations, position_lr_init, position_lr_final, position_lr_delay_mult, position_lr_max_steps, feature_lr, opacity_lr, scaling_lr, rotation_lr, percent_dense, lambda_dssim, densification_interval, opacity_reset_interval, densify_from_iter, densify_until_iter, densify_grad_threshold, convert_SHs_python, compute_cov3D_python\n"
     ]
    },
    {
     "ename": "SystemExit",
     "evalue": "2",
     "output_type": "error",
     "traceback": [
      "An exception has occurred, use %tb to see the full traceback.\n",
      "\u001b[1;31mSystemExit\u001b[0m\u001b[1;31m:\u001b[0m 2\n"
     ]
    },
    {
     "name": "stderr",
     "output_type": "stream",
     "text": [
      "D:\\app\\Lib\\site-packages\\IPython\\core\\interactiveshell.py:3534: UserWarning: To exit: use 'exit', 'quit', or Ctrl-D.\n",
      "  warn(\"To exit: use 'exit', 'quit', or Ctrl-D.\", stacklevel=1)\n"
     ]
    }
   ],
   "source": [
    "import argparse #导入进行参数处理的包\n",
    "import json #导入处理json文件的包，有一部分参数存储在json文件中\n",
    "\n",
    "#创建参数总容器\n",
    "parse = argparse.ArgumentParser()\n",
    "file = \"config.json\"\n",
    "with open(file,'r') as f:\n",
    "    file_args = json.load(f)\n",
    "\n",
    "for arg in file_args:\n",
    "    parse.add_argument(arg,default=file_args[arg])\n",
    "\n",
    "parse.add_argument(\"--detect_anomaly\", action=\"store_true\", default=False)\n",
    "parse.add_argument(\"--test_iterations\", nargs=\"+\", type=int, default=[100,1_000, 7_000, 30_000])\n",
    "parse.add_argument(\"--save_iterations\", nargs=\"+\", type=int, default=[100,1_000, 7_000, 30_000])    \n",
    "parse.add_argument(\"--checkpoint_iterations\", nargs=\"+\", type=int, default=[100, 1_000, 7_000, 30_000])\n",
    "parse.add_argument(\"--start_checkpoint\", type=str, default = None)\n",
    "\n",
    "args = parse.parse_args()\n",
    "print(args.sparse)\n"
   ]
  },
  {
   "cell_type": "code",
   "execution_count": 15,
   "id": "2439f433",
   "metadata": {},
   "outputs": [],
   "source": [
    "import argparse #导入进行参数处理的包\n",
    "import json #导入处理json文件的包，有一部分参数存储在json文件中\n",
    "\n",
    "#创建参数总容器\n",
    "parse = argparse.ArgumentParser()\n",
    "file = \"config.json\"\n",
    "with open(file,'r') as f:\n",
    "    file_args = json.load(f)\n",
    "\n",
    "for arg in file_args:\n",
    "    parse.add_argument(\"--\" + arg,default=file_args[arg])"
   ]
  },
  {
   "cell_type": "code",
   "execution_count": 17,
   "id": "52e0a204",
   "metadata": {},
   "outputs": [
    {
     "ename": "AttributeError",
     "evalue": "'Namespace' object has no attribute 'sparse'",
     "output_type": "error",
     "traceback": [
      "\u001b[1;31m---------------------------------------------------------------------------\u001b[0m",
      "\u001b[1;31mAttributeError\u001b[0m                            Traceback (most recent call last)",
      "Cell \u001b[1;32mIn[17], line 2\u001b[0m\n\u001b[0;32m      1\u001b[0m args \u001b[38;5;241m=\u001b[39m parse\u001b[38;5;241m.\u001b[39mparse_args(args\u001b[38;5;241m=\u001b[39m[])\n\u001b[1;32m----> 2\u001b[0m \u001b[38;5;28mprint\u001b[39m(args\u001b[38;5;241m.\u001b[39msparse)\n",
      "\u001b[1;31mAttributeError\u001b[0m: 'Namespace' object has no attribute 'sparse'"
     ]
    }
   ],
   "source": [
    "args = parse.parse_args(args=[])\n",
    "print(args.sparse)"
   ]
  },
  {
   "cell_type": "code",
   "execution_count": 18,
   "id": "d923fc9c",
   "metadata": {},
   "outputs": [
    {
     "name": "stderr",
     "output_type": "stream",
     "text": [
      "usage: ipykernel_launcher.py [-h] [--detect_anomaly] [--test_iterations TEST_ITERATIONS [TEST_ITERATIONS ...]]\n",
      "                             [--save_iterations SAVE_ITERATIONS [SAVE_ITERATIONS ...]]\n",
      "                             [--checkpoint_iterations CHECKPOINT_ITERATIONS [CHECKPOINT_ITERATIONS ...]]\n",
      "                             [--start_checkpoint START_CHECKPOINT]\n",
      "                             sh_degree source_path model_path images resolution white_background data_device eval\n",
      "                             iterations position_lr_init position_lr_final position_lr_delay_mult\n",
      "                             position_lr_max_steps feature_lr opacity_lr scaling_lr rotation_lr percent_dense\n",
      "                             lambda_dssim densification_interval opacity_reset_interval densify_from_iter\n",
      "                             densify_until_iter densify_grad_threshold convert_SHs_python compute_cov3D_python\n",
      "ipykernel_launcher.py: error: the following arguments are required: source_path, model_path, images, resolution, white_background, data_device, eval, iterations, position_lr_init, position_lr_final, position_lr_delay_mult, position_lr_max_steps, feature_lr, opacity_lr, scaling_lr, rotation_lr, percent_dense, lambda_dssim, densification_interval, opacity_reset_interval, densify_from_iter, densify_until_iter, densify_grad_threshold, convert_SHs_python, compute_cov3D_python\n"
     ]
    },
    {
     "ename": "SystemExit",
     "evalue": "2",
     "output_type": "error",
     "traceback": [
      "An exception has occurred, use %tb to see the full traceback.\n",
      "\u001b[1;31mSystemExit\u001b[0m\u001b[1;31m:\u001b[0m 2\n"
     ]
    }
   ],
   "source": [
    "import argparse #导入进行参数处理的包\n",
    "import json #导入处理json文件的包，有一部分参数存储在json文件中\n",
    "\n",
    "#创建参数总容器\n",
    "parser = argparse.ArgumentParser()\n",
    "file = \"config.json\"\n",
    "with open(file,'r') as f:\n",
    "    file_args = json.load(f)\n",
    "\n",
    "for arg in file_args:\n",
    "    parser.add_argument(arg,default=file_args[arg])\n",
    "\n",
    "parser.add_argument(\"--detect_anomaly\", action=\"store_true\", default=False)\n",
    "parser.add_argument(\"--test_iterations\", nargs=\"+\", type=int, default=[100,1_000, 7_000, 30_000])\n",
    "parser.add_argument(\"--save_iterations\", nargs=\"+\", type=int, default=[100,1_000, 7_000, 30_000])    \n",
    "parser.add_argument(\"--checkpoint_iterations\", nargs=\"+\", type=int, default=[100, 1_000, 7_000, 30_000])\n",
    "parser.add_argument(\"--start_checkpoint\", type=str, default = None)\n",
    "\n",
    "args = parser.parse_args()\n",
    "print(args.sparse)"
   ]
  },
  {
   "cell_type": "code",
   "execution_count": 20,
   "id": "6fca5df0",
   "metadata": {},
   "outputs": [
    {
     "name": "stdout",
     "output_type": "stream",
     "text": [
      "sh_degree: 3\n",
      "source_path: \n",
      "model_path: \n",
      "images: images\n",
      "resolution: -1\n",
      "white_background: False\n",
      "data_device: cuda\n",
      "eval: False\n",
      "iterations: 30000\n",
      "position_lr_init: 0.00016\n",
      "position_lr_final: 1.6e-06\n",
      "position_lr_delay_mult: 0.01\n",
      "position_lr_max_steps: 30000\n",
      "feature_lr: 0.0025\n",
      "opacity_lr: 0.05\n",
      "scaling_lr: 0.005\n",
      "rotation_lr: 0.001\n",
      "percent_dense: 0.01\n",
      "lambda_dssim: 0.2\n",
      "densification_interval: 100\n",
      "opacity_reset_interval: 3000\n",
      "densify_from_iter: 500\n",
      "densify_until_iter: 15000\n",
      "densify_grad_threshold: 0.0002\n",
      "convert_SHs_python: False\n",
      "compute_cov3D_python: False\n",
      "detect_anomaly: False\n",
      "test_iterations: [100, 1000, 7000, 30000]\n",
      "save_iterations: [100, 1000, 7000, 30000]\n",
      "checkpoint_iterations: [100, 1000, 7000, 30000]\n",
      "start_checkpoint: None\n"
     ]
    }
   ],
   "source": [
    "import argparse #导入进行参数处理的包\n",
    "import json #导入处理json文件的包，有一部分参数存储在json文件中\n",
    "\n",
    "#创建参数总容器\n",
    "parser = argparse.ArgumentParser()\n",
    "file = \"config.json\"\n",
    "with open(file,'r') as f:\n",
    "    file_args = json.load(f)\n",
    "\n",
    "for arg in file_args:\n",
    "    parser.add_argument(\"--\"+arg,default=file_args[arg])\n",
    "\n",
    "parser.add_argument(\"--detect_anomaly\", action=\"store_true\", default=False)\n",
    "parser.add_argument(\"--test_iterations\", nargs=\"+\", type=int, default=[100,1_000, 7_000, 30_000])\n",
    "parser.add_argument(\"--save_iterations\", nargs=\"+\", type=int, default=[100,1_000, 7_000, 30_000])    \n",
    "parser.add_argument(\"--checkpoint_iterations\", nargs=\"+\", type=int, default=[100, 1_000, 7_000, 30_000])\n",
    "parser.add_argument(\"--start_checkpoint\", type=str, default = None)\n",
    "\n",
    "args = parser.parse_args(args=[])\n",
    "#print(args.sparse)\n",
    "for k in args.__dict__:\n",
    "    print(k + \": \" + str(args.__dict__[k]))"
   ]
  },
  {
   "cell_type": "code",
   "execution_count": null,
   "id": "7cc3e7cb",
   "metadata": {},
   "outputs": [],
   "source": []
  }
 ],
 "metadata": {
  "kernelspec": {
   "display_name": "Python 3 (ipykernel)",
   "language": "python",
   "name": "python3"
  },
  "language_info": {
   "codemirror_mode": {
    "name": "ipython",
    "version": 3
   },
   "file_extension": ".py",
   "mimetype": "text/x-python",
   "name": "python",
   "nbconvert_exporter": "python",
   "pygments_lexer": "ipython3",
   "version": "3.11.5"
  }
 },
 "nbformat": 4,
 "nbformat_minor": 5
}
